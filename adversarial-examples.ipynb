{
 "cells": [
  {
   "cell_type": "code",
   "execution_count": 47,
   "metadata": {},
   "outputs": [],
   "source": [
    "from __future__ import print_function\n",
    "import numpy as np\n",
    "import matplotlib.pyplot as plt\n",
    "from tqdm import tqdm_notebook as tqdm"
   ]
  },
  {
   "cell_type": "markdown",
   "metadata": {},
   "source": [
    "First, we define some functions for computing the output of the multilayer perceptron."
   ]
  },
  {
   "cell_type": "code",
   "execution_count": 2,
   "metadata": {},
   "outputs": [],
   "source": [
    "def softmax(x):\n",
    "    '''\n",
    "    Input\n",
    "         x: a vector in ndarray format, \n",
    "            typically the raw score of prediction.\n",
    "    Output \n",
    "         a vector in ndarray format,\n",
    "         typically representing the predicted class probability.\n",
    "    '''\n",
    "    res = np.exp(x-np.max(x))\n",
    "    return res/np.sum(res)\n",
    "\n",
    "def cross_entropy(y, p):\n",
    "    '''\n",
    "    Input\n",
    "        y: an int representing the class label\n",
    "        p: a vector in ndarray format showing the predicted\n",
    "           probability of each class.\n",
    "           \n",
    "    Output\n",
    "        the cross entropy loss. \n",
    "    '''\n",
    "    log_likelihood = -np.log(p)\n",
    "    return log_likelihood[y]\n",
    "\n",
    "def relu(x):\n",
    "    '''\n",
    "    Input\n",
    "        x: a vector in ndarray format\n",
    "    Output\n",
    "        a vector in ndarray format,\n",
    "        representing the ReLu activation of x.\n",
    "    '''\n",
    "    return np.maximum(x, 0)"
   ]
  },
  {
   "cell_type": "markdown",
   "metadata": {},
   "source": [
    "Next, we define the structure and some utility functions of our multi-layer perceptron."
   ]
  },
  {
   "cell_type": "code",
   "execution_count": 191,
   "metadata": {},
   "outputs": [],
   "source": [
    "class MultiLayerPerceptron():\n",
    "    '''\n",
    "    This class defines the multi-layer perceptron we will be using\n",
    "    as the attack target.\n",
    "    \n",
    "    '''\n",
    "    def __init__(self):\n",
    "        self.eps = 0.1\n",
    "    \n",
    "    def load_params(self, params):\n",
    "        '''\n",
    "        This method loads the weights and biases of a trained model.\n",
    "        '''\n",
    "        self.W1 = params[\"fc1.weight\"]\n",
    "        self.b1 = params[\"fc1.bias\"]\n",
    "        self.W2 = params[\"fc2.weight\"]\n",
    "        self.b2 = params[\"fc2.bias\"]\n",
    "        self.W3 = params[\"fc3.weight\"]\n",
    "        self.b3 = params[\"fc3.bias\"]\n",
    "        self.W4 = params[\"fc4.weight\"]\n",
    "        self.b4 = params[\"fc4.bias\"]\n",
    "        \n",
    "    def set_attack_budget(self, eps):\n",
    "        '''\n",
    "        This method sets the maximum L_infty norm of the adversarial\n",
    "        perturbation.\n",
    "        '''\n",
    "        self.eps = eps\n",
    "        \n",
    "    def forward(self, x):\n",
    "        '''\n",
    "        This method finds the predicted probability vector of an input\n",
    "        image x.\n",
    "        \n",
    "        Input\n",
    "            x: a single image vector in ndarray format\n",
    "        Ouput\n",
    "            a vector in ndarray format representing the predicted class\n",
    "            probability of x.\n",
    "            \n",
    "        Intermediate results are stored as class attributes.\n",
    "        You might need them for gradient computation.\n",
    "        '''\n",
    "        W1, W2, W3, W4 = self.W1, self.W2, self.W3, self.W4\n",
    "        b1, b2, b3, b4 = self.b1, self.b2, self.b3, self.b4\n",
    "        \n",
    "        self.z1 = np.matmul(x,W1)+b1\n",
    "        self.h1 = relu(self.z1)\n",
    "        self.z2 = np.matmul(self.h1,W2)+b2\n",
    "        self.h2 = relu(self.z2)\n",
    "        self.z3 = np.matmul(self.h2,W3)+b3\n",
    "        self.h3 = relu(self.z3)\n",
    "        self.z4 = np.matmul(self.h3,W4)+b4\n",
    "        self.p = softmax(self.z4)\n",
    "        \n",
    "        return self.p\n",
    "        \n",
    "    def predict(self, x):\n",
    "        '''\n",
    "        This method takes a single image vector x and returns the \n",
    "        predicted class label of it.\n",
    "        '''\n",
    "        res = self.forward(x)\n",
    "        return np.argmax(res)\n",
    "    \n",
    "    def gradient(self,x,y_onehot):\n",
    "        ''' \n",
    "        This method finds the gradient of the cross-entropy loss\n",
    "        of an image-label pair (x,y) w.r.t. to the image x.\n",
    "        \n",
    "        Input\n",
    "            x: the input image vector in ndarray format\n",
    "            y: the true label of x\n",
    "            \n",
    "        Output\n",
    "            a vector in ndarray format representing\n",
    "            the gradient of the cross-entropy loss of (x,y)\n",
    "            w.r.t. the image x.\n",
    "        '''\n",
    "        \n",
    "        #######################################\n",
    "        #\n",
    "        # TODO\n",
    "        #\n",
    "        #######################################\n",
    "        \n",
    "        p = self.forward(x)\n",
    "        \n",
    "        first_term = ((p-y_onehot) @ self.W4.T)\n",
    "        second_term = ((np.diag(self.h3 > 0) @ self.W3.T) \n",
    "                       @ (np.diag(self.h2 > 0) @ self.W2.T) \n",
    "                       @ (np.diag(self.h1 > 0) @ self.W1.T))\n",
    "        return first_term @ second_term\n",
    "      \n",
    "    def attack_fast_gradient_sign(self,x,y,grad=None):\n",
    "        if grad is None:\n",
    "            grad = self.gradient(x, y)\n",
    "        dx = np.sign(grad)\n",
    "        return x + self.eps * dx\n",
    "      \n",
    "    def attack_all_eps(self,x,y):\n",
    "        return x + self.eps * np.ones(len(x))\n",
    "      \n",
    "    def attack_fast_gradient_norm(self,x,y, grad=None):\n",
    "        if grad is None:\n",
    "            grad = self.gradient(x, y)\n",
    "        grad = grad/np.abs(grad).max()\n",
    "        return x + self.eps * grad\n",
    "      \n",
    "    def attack_fast_gradient_sign_threshold(self,x,y,grad=None):\n",
    "        if grad is None:\n",
    "            grad = self.gradient(x, y)\n",
    "        grad = self.gradient(x, y)\n",
    "        grad[np.abs(grad) < 0.01] = 0\n",
    "        grad = np.sign(grad)\n",
    "        return x + self.eps * grad\n",
    "      \n",
    "    def attack_fast_gradient_exp_temperature(self,x,y,T,grad=None):\n",
    "        if grad is None:\n",
    "            grad = self.gradient(x, y)\n",
    "        grad_sign = np.sign(grad)\n",
    "        grad_exp = np.exp(np.abs(grad)/T)\n",
    "        grad_exp_sign = grad_exp * grad_sign\n",
    "        dx = grad_exp_sign/np.abs(grad_exp_sign).max()\n",
    "        return x + self.eps * dx\n",
    "    \n",
    "    def attack(self,x,y):\n",
    "        '''\n",
    "        This method generates the adversarial example of an\n",
    "        image-label pair (x,y).\n",
    "        \n",
    "        Input\n",
    "            x: an image vector in ndarray format, representing\n",
    "               the image to be corrupted.\n",
    "            y: the true label of the image x.\n",
    "            \n",
    "        Output\n",
    "            a vector in ndarray format, representing\n",
    "            the adversarial example created from image x.\n",
    "        '''\n",
    "        \n",
    "        #######################################\n",
    "        #\n",
    "        # TODO\n",
    "        #\n",
    "        #######################################\n",
    "        \n",
    "        return x"
   ]
  },
  {
   "cell_type": "markdown",
   "metadata": {},
   "source": [
    "Now, let's load the pre-trained model and the test data."
   ]
  },
  {
   "cell_type": "code",
   "execution_count": 192,
   "metadata": {},
   "outputs": [],
   "source": [
    "X_test = np.load(\"./data/X_test.npy\")\n",
    "Y_test = np.load(\"./data/Y_test.npy\")\n",
    "\n",
    "Y_test_onehot = np.zeros((len(Y_test), 10))\n",
    "Y_test_onehot[np.arange(len(Y_test)), Y_test] = 1\n",
    "\n",
    "params = {}\n",
    "param_names = [\"fc1.weight\", \"fc1.bias\",\n",
    "               \"fc2.weight\", \"fc2.bias\",\n",
    "               \"fc3.weight\", \"fc3.bias\",\n",
    "               \"fc4.weight\", \"fc4.bias\"]\n",
    "\n",
    "for name in param_names:\n",
    "    params[name] = np.load(\"./data/\"+name+'.npy')\n",
    "    \n",
    "clf = MultiLayerPerceptron()\n",
    "clf.load_params(params)"
   ]
  },
  {
   "cell_type": "markdown",
   "metadata": {},
   "source": [
    "Check if the image data are loaded correctly. Let's visualize the first image in the data set."
   ]
  },
  {
   "cell_type": "code",
   "execution_count": 187,
   "metadata": {},
   "outputs": [
    {
     "name": "stdout",
     "output_type": "stream",
     "text": [
      "This is an image of Number 7\n"
     ]
    },
    {
     "data": {
      "text/plain": [
       "<matplotlib.image.AxesImage at 0x11e82b9e8>"
      ]
     },
     "execution_count": 187,
     "metadata": {},
     "output_type": "execute_result"
    },
    {
     "data": {
      "image/png": "[encoded data removed]",
      "text/plain": [
       "<Figure size 432x288 with 1 Axes>"
      ]
     },
     "metadata": {
      "needs_background": "light"
     },
     "output_type": "display_data"
    }
   ],
   "source": [
    "x, y = X_test[0], Y_test[0]\n",
    "print (\"This is an image of Number\", y)\n",
    "pixels = x.reshape((28,28))\n",
    "plt.imshow(pixels,cmap=\"gray\")"
   ]
  },
  {
   "cell_type": "markdown",
   "metadata": {},
   "source": [
    "Check if the model is loaded correctly. The test accuracy should be 97.6%"
   ]
  },
  {
   "cell_type": "code",
   "execution_count": 203,
   "metadata": {
    "scrolled": false
   },
   "outputs": [],
   "source": [
    "def attack_experiment(attack_methods, nTest = 1000, compute_original=False):\n",
    "    inds = np.arange(len(Y_test_onehot))\n",
    "    np.random.shuffle(inds)\n",
    "    inds = inds[:nTest]\n",
    "    X_test_permuted = X_test[inds]\n",
    "    Y_test_onehot_permuted = Y_test_onehot[inds]\n",
    "    Y_test_permuted = Y_test[inds]\n",
    "    \n",
    "    if compute_original:\n",
    "      Y_pred = np.zeros((nTest, len(attack_methods)+1))\n",
    "    else:\n",
    "      Y_pred = np.zeros((nTest, len(attack_methods)))\n",
    "      \n",
    "    for i in tqdm(range(nTest)):\n",
    "        x, y = X_test_permuted[i], Y_test_onehot_permuted[i]\n",
    "        grad = clf.gradient(x,y)\n",
    "        all_x_advs = [attack(x,y,grad) for attack in attack_methods]\n",
    "        if compute_original:\n",
    "          Y_pred[i] = [clf.predict(x)] + [clf.predict(x_adv) for x_adv in all_x_advs]\n",
    "        else:\n",
    "          Y_pred[i] = [clf.predict(x_adv) for x_adv in all_x_advs]\n",
    "    accs = (np.sum(Y_pred.T == Y_test_permuted, axis=1)*1.0/nTest).T\n",
    "    return accs"
   ]
  },
  {
   "cell_type": "code",
   "execution_count": 204,
   "metadata": {},
   "outputs": [],
   "source": [
    "def attack_fast_grad_temperature(T):\n",
    "  def attack(x, y, grad):\n",
    "    return clf.attack_fast_gradient_exp_temperature(x, y, T, grad)\n",
    "  return attack"
   ]
  },
  {
   "cell_type": "code",
   "execution_count": null,
   "metadata": {},
   "outputs": [
    {
     "data": {
      "application/vnd.jupyter.widget-view+json": {
       "model_id": "945f1bd721154ffc92dbbb6a301b0ca5",
       "version_major": 2,
       "version_minor": 0
      },
      "text/plain": [
       "HBox(children=(IntProgress(value=0, max=10), HTML(value='')))"
      ]
     },
     "metadata": {},
     "output_type": "display_data"
    },
    {
     "data": {
      "application/vnd.jupyter.widget-view+json": {
       "model_id": "34ccf94f058049ac97f989e13bc626c4",
       "version_major": 2,
       "version_minor": 0
      },
      "text/plain": [
       "HBox(children=(IntProgress(value=0, max=1000), HTML(value='')))"
      ]
     },
     "metadata": {},
     "output_type": "display_data"
    },
    {
     "data": {
      "application/vnd.jupyter.widget-view+json": {
       "model_id": "4618b2616d4b4f89910a9f75dc8c4ed7",
       "version_major": 2,
       "version_minor": 0
      },
      "text/plain": [
       "HBox(children=(IntProgress(value=0, max=1000), HTML(value='')))"
      ]
     },
     "metadata": {},
     "output_type": "display_data"
    }
   ],
   "source": [
    "all_accs = []\n",
    "for i in tqdm(range(10)):\n",
    "  accs = attack_experiment([clf.attack_fast_gradient_sign, \n",
    "                          attack_fast_grad_temperature(1),\n",
    "                          attack_fast_grad_temperature(2),\n",
    "                          attack_fast_grad_temperature(4),\n",
    "                          attack_fast_grad_temperature(0.5),\n",
    "                           attack_fast_grad_temperature(0.01)], nTest=1000)\n",
    "  all_accs.append(accs)"
   ]
  },
  {
   "cell_type": "code",
   "execution_count": 199,
   "metadata": {},
   "outputs": [
    {
     "data": {
      "text/plain": [
       "array([0.02  , 0.02  , 0.02  , 0.02  , 0.0225])"
      ]
     },
     "execution_count": 199,
     "metadata": {},
     "output_type": "execute_result"
    }
   ],
   "source": [
    "accs"
   ]
  },
  {
   "cell_type": "code",
   "execution_count": 91,
   "metadata": {},
   "outputs": [
    {
     "name": "stdout",
     "output_type": "stream",
     "text": [
      "Label is 9 Predicted as 7\n"
     ]
    },
    {
     "data": {
      "text/plain": [
       "<matplotlib.image.AxesImage at 0x114110710>"
      ]
     },
     "execution_count": 91,
     "metadata": {},
     "output_type": "execute_result"
    },
    {
     "data": {
      "image/png": "[encoded data removed]",
      "text/plain": [
       "<Figure size 432x288 with 1 Axes>"
      ]
     },
     "metadata": {
      "needs_background": "light"
     },
     "output_type": "display_data"
    }
   ],
   "source": [
    "pixels = x_adv.reshape((28,28))\n",
    "print(\"Label is\", np.argmax(y), \"Predicted as\", clf.predict(x_adv))\n",
    "plt.imshow(pixels,cmap=\"gray\")"
   ]
  },
  {
   "cell_type": "markdown",
   "metadata": {},
   "source": [
    "Have fun!"
   ]
  },
  {
   "cell_type": "code",
   "execution_count": 26,
   "metadata": {},
   "outputs": [
    {
     "data": {
      "text/plain": [
       "(2048, 784)"
      ]
     },
     "execution_count": 26,
     "metadata": {},
     "output_type": "execute_result"
    }
   ],
   "source": [
    "(np.diag(clf.h1 > 0) @ clf.W1.T).shape"
   ]
  },
  {
   "cell_type": "code",
   "execution_count": 34,
   "metadata": {},
   "outputs": [
    {
     "data": {
      "text/plain": [
       "(512, 512)"
      ]
     },
     "execution_count": 34,
     "metadata": {},
     "output_type": "execute_result"
    }
   ],
   "source": [
    "(np.diag(clf.h3 > 0) \n",
    "   @ clf.W3.T).shape"
   ]
  },
  {
   "cell_type": "code",
   "execution_count": 30,
   "metadata": {},
   "outputs": [
    {
     "data": {
      "text/plain": [
       "(512,)"
      ]
     },
     "execution_count": 30,
     "metadata": {},
     "output_type": "execute_result"
    }
   ],
   "source": [
    "(clf.forward(x) @ clf.W4.T).shape"
   ]
  },
  {
   "cell_type": "code",
   "execution_count": null,
   "metadata": {},
   "outputs": [],
   "source": []
  }
 ],
 "metadata": {
  "kernelspec": {
   "display_name": "Python 3",
   "language": "python",
   "name": "python3"
  },
  "language_info": {
   "codemirror_mode": {
    "name": "ipython",
    "version": 3
   },
   "file_extension": ".py",
   "mimetype": "text/x-python",
   "name": "python",
   "nbconvert_exporter": "python",
   "pygments_lexer": "ipython3",
   "version": "3.6.8"
  }
 },
 "nbformat": 4,
 "nbformat_minor": 2
}
